{
  "nbformat": 4,
  "nbformat_minor": 0,
  "metadata": {
    "colab": {
      "name": "Untitled2.ipynb",
      "provenance": []
    },
    "kernelspec": {
      "name": "python3",
      "display_name": "Python 3"
    },
    "language_info": {
      "name": "python"
    }
  },
  "cells": [
    {
      "cell_type": "code",
      "metadata": {
        "id": "cWoVMZSL9uRT"
      },
      "source": [
        "import cv2\n",
        "import matplotlib.pyplot as plt\n",
        "%matplotlib inline"
      ],
      "execution_count": null,
      "outputs": []
    },
    {
      "cell_type": "code",
      "metadata": {
        "id": "Mt65n1kkyruL"
      },
      "source": [
        "from google.colab import files\n",
        "uploaded = files.upload()"
      ],
      "execution_count": null,
      "outputs": []
    },
    {
      "cell_type": "code",
      "metadata": {
        "id": "DRC_m9zFyuae"
      },
      "source": [
        "img = cv2.imread('file name.file format')\n",
        "gray_img = cv2.cvtColor(img, cv2.COLOR_BGR2GRAY)\n",
        " \n",
        "fig, ax = plt.subplots(ncols=2)\n",
        " \n",
        "ax[0].imshow(img[..., ::-1])  # BGR to RGB\n",
        "ax[0].set_title('Original image')\n",
        " \n",
        "ax[1].imshow(gray_img, cmap=plt.cm.gray)\n",
        "ax[1].set_title('Grayscale image')\n",
        " \n",
        "plt.show()"
      ],
      "execution_count": null,
      "outputs": []
    }
  ]
}